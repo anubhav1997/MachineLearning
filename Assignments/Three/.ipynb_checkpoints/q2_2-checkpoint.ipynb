{
 "cells": [
  {
   "cell_type": "code",
   "execution_count": 1,
   "metadata": {},
   "outputs": [
    {
     "name": "stderr",
     "output_type": "stream",
     "text": [
      "/usr/local/lib/python3.6/site-packages/sklearn/cross_validation.py:41: DeprecationWarning: This module was deprecated in version 0.18 in favor of the model_selection module into which all the refactored classes and functions are moved. Also note that the interface of the new CV iterators are different from that of this module. This module will be removed in 0.20.\n",
      "  \"This module will be removed in 0.20.\", DeprecationWarning)\n"
     ]
    }
   ],
   "source": [
    "import h5py\n",
    "import numpy as np\n",
    "import pandas as pd\n",
    "from sklearn.neural_network import MLPClassifier\n",
    "from sklearn.model_selection import train_test_split\n",
    "from sklearn.preprocessing import StandardScaler\n",
    "from sklearn.metrics import accuracy_score\n",
    "from sklearn.datasets import fetch_mldata\n",
    "from sknn.mlp import Classifier, Layer"
   ]
  },
  {
   "cell_type": "code",
   "execution_count": 2,
   "metadata": {
    "collapsed": true
   },
   "outputs": [],
   "source": [
    "def load_h5py(filename):\n",
    "    with h5py.File(filename, 'r') as hf:\n",
    "        X = hf['X'][:]\n",
    "        Y = hf['Y'][:]\n",
    "    return X, Y"
   ]
  },
  {
   "cell_type": "code",
   "execution_count": 3,
   "metadata": {
    "collapsed": true
   },
   "outputs": [],
   "source": [
    "mnist = fetch_mldata('MNIST original')\n",
    "\n",
    "x=mnist.data\n",
    "y=mnist.target\n",
    "\n",
    "x_arr=[]\n",
    "\n",
    "for xi in x:\n",
    "    x_arr.append(np.reshape(xi,xi.size))\n",
    "\n",
    "x=x_arr\n",
    "\n",
    "#number_of_samples=len(y)\n",
    "#num_train=int(number_of_samples*0.7)\n",
    "#num_test=int(number_of_samples*0.30)\n",
    "#random_indices = np.random.permutation(number_of_samples)\n",
    "#x_train = x[random_indices[:num_train]]\n",
    "#x_test = x[random_indices[num_train]]\n",
    "\n",
    "\n",
    "x_train,x_test,y_train,y_test=train_test_split(x,y,test_size=0.25,random_state=7)"
   ]
  },
  {
   "cell_type": "code",
   "execution_count": 4,
   "metadata": {
    "collapsed": true
   },
   "outputs": [],
   "source": [
    "scaler = StandardScaler()\n",
    "\n",
    "scaler.fit(x_train)\n",
    "x_train = scaler.transform(x_train)\n",
    "x_test = scaler.transform(x_test)"
   ]
  },
  {
   "cell_type": "code",
   "execution_count": 6,
   "metadata": {
    "collapsed": true
   },
   "outputs": [],
   "source": [
    "#model=MLPClassifier(activation='logistic',solver='sgd',hidden_layer_sizes=(100,50),random_state=1) \n",
    "\n",
    "model = Classifier(\n",
    "    layers=[\n",
    "        Layer(\"Sigmoid\", units=100),\n",
    "        Layer(\"Sigmoid\",units=50),\n",
    "        Layer(\"Softmax\")],\n",
    "    learning_rate=0.001,\n",
    "    verbose=100,\n",
    "    n_iter=25)"
   ]
  },
  {
   "cell_type": "code",
   "execution_count": 7,
   "metadata": {},
   "outputs": [
    {
     "name": "stdout",
     "output_type": "stream",
     "text": [
      "Initializing neural network with 3 layers, 784 inputs and 10 outputs.\n",
      "  - Dense: \u001b[1;97mSigmoid   \u001b[0m Units:  \u001b[1;97m100 \u001b[0m\n",
      "  - Dense: \u001b[1;97mSigmoid   \u001b[0m Units:  \u001b[1;97m50  \u001b[0m\n",
      "  - Dense: \u001b[1;97mSoftmax   \u001b[0m Units:  \u001b[1;97m10  \u001b[0m\n",
      "\n",
      "Training on dataset of 52,500 samples with 41,685,000 total size.\n",
      "  - Terminating loop after 25 total iterations.\n",
      "  - Early termination after 10 stable iterations.\n",
      "\n",
      "Epoch       Training Error       Validation Error       Time\n",
      "------------------------------------------------------------\n",
      "    1         \u001b[0;94m 1.174e+00\u001b[0m                 N/A           15.4s\n",
      "    2         \u001b[0;94m 4.192e-01\u001b[0m                 N/A           14.8s\n",
      "    3         \u001b[0;94m 3.167e-01\u001b[0m                 N/A           14.7s\n",
      "    4         \u001b[0;94m 2.726e-01\u001b[0m                 N/A           15.0s\n",
      "    5         \u001b[0;94m 2.444e-01\u001b[0m                 N/A           14.9s\n",
      "    6         \u001b[0;94m 2.231e-01\u001b[0m                 N/A           14.7s\n",
      "    7         \u001b[0;94m 2.060e-01\u001b[0m                 N/A           14.8s\n",
      "    8         \u001b[0;94m 1.917e-01\u001b[0m                 N/A           14.7s\n",
      "    9         \u001b[0;94m 1.791e-01\u001b[0m                 N/A           18.0s\n",
      "   10         \u001b[0;94m 1.679e-01\u001b[0m                 N/A           16.3s\n",
      "   11         \u001b[0;94m 1.580e-01\u001b[0m                 N/A           17.2s\n",
      "   12         \u001b[0;94m 1.489e-01\u001b[0m                 N/A           21.8s\n",
      "   13         \u001b[0;94m 1.406e-01\u001b[0m                 N/A           26.5s\n",
      "   14         \u001b[0;94m 1.331e-01\u001b[0m                 N/A           17.5s\n",
      "   15         \u001b[0;94m 1.262e-01\u001b[0m                 N/A           15.1s\n",
      "   16         \u001b[0;94m 1.197e-01\u001b[0m                 N/A           14.9s\n",
      "   17         \u001b[0;94m 1.135e-01\u001b[0m                 N/A           15.1s\n",
      "   18         \u001b[0;94m 1.080e-01\u001b[0m                 N/A           15.1s\n",
      "   19         \u001b[0;94m 1.026e-01\u001b[0m                 N/A           16.7s\n",
      "   20         \u001b[0;94m 9.760e-02\u001b[0m                 N/A           17.0s\n",
      "   21         \u001b[0;94m 9.302e-02\u001b[0m                 N/A           16.9s\n",
      "   22         \u001b[0;94m 8.854e-02\u001b[0m                 N/A           16.7s\n",
      "   23         \u001b[0;94m 8.438e-02\u001b[0m                 N/A           16.4s\n",
      "   24         \u001b[0;94m 8.035e-02\u001b[0m                 N/A           16.5s\n",
      "   25         \u001b[0;94m 7.655e-02\u001b[0m                 N/A           16.2s\n",
      "\n",
      "Terminating after specified 25 total iterations.\n"
     ]
    },
    {
     "data": {
      "text/plain": [
       "Classifier(batch_size=1, callback=None, debug=False, dropout_rate=None,\n",
       "      f_stable=0.001,\n",
       "      hidden0=<sknn.nn.Layer `Sigmoid`: name='hidden0', units=100, frozen=False>,\n",
       "      hidden1=<sknn.nn.Layer `Sigmoid`: name='hidden1', units=50, frozen=False>,\n",
       "      layers=[<sknn.nn.Layer `Sigmoid`: name='hidden0', units=100, frozen=False>, <sknn.nn.Layer `Sigmoid`: name='hidden1', units=50, frozen=False>, <sknn.nn.Layer `Softmax`: name='output', units=10, frozen=False>],\n",
       "      learning_momentum=0.9, learning_rate=0.001, learning_rule='sgd',\n",
       "      loss_type=None, n_iter=25, n_stable=10, normalize=None,\n",
       "      output=<sknn.nn.Layer `Softmax`: name='output', units=10, frozen=False>,\n",
       "      parameters=None, random_state=None, regularize=None, valid_set=None,\n",
       "      valid_size=0.0, verbose=100, warning=None, weight_decay=None)"
      ]
     },
     "execution_count": 7,
     "metadata": {},
     "output_type": "execute_result"
    }
   ],
   "source": [
    "model.fit(x_train,y_train)"
   ]
  },
  {
   "cell_type": "code",
   "execution_count": 8,
   "metadata": {},
   "outputs": [
    {
     "name": "stdout",
     "output_type": "stream",
     "text": [
      "[(17500, 10)]\n",
      "96.0285714286\n"
     ]
    }
   ],
   "source": [
    "predicted=model.predict(x_test)\n",
    "\n",
    "print(accuracy_score(y_test, predicted)*100)"
   ]
  },
  {
   "cell_type": "code",
   "execution_count": 9,
   "metadata": {},
   "outputs": [
    {
     "data": {
      "text/plain": [
       "['q2_2.pkl']"
      ]
     },
     "execution_count": 9,
     "metadata": {},
     "output_type": "execute_result"
    }
   ],
   "source": [
    "from sklearn.externals import joblib\n",
    "joblib.dump(model, 'q2_2.pkl') "
   ]
  },
  {
   "cell_type": "code",
   "execution_count": 10,
   "metadata": {},
   "outputs": [
    {
     "data": {
      "text/plain": [
       "[<matplotlib.lines.Line2D at 0x110b03588>]"
      ]
     },
     "execution_count": 10,
     "metadata": {},
     "output_type": "execute_result"
    },
    {
     "data": {
      "image/png": "[encoded data removed]",
      "text/plain": [
       "<matplotlib.figure.Figure at 0x106730128>"
      ]
     },
     "metadata": {},
     "output_type": "display_data"
    }
   ],
   "source": [
    "%matplotlib inline\n",
    "import matplotlib.pyplot as plt\n",
    "\n",
    "iteration=[2,3,4,5,6,7,8,9,10,11,12,13,14,15,16,17,18,19]\n",
    "lossval=[4.192e-01 ,3.167e-01,2.726e-01,2.444e-01,2.231e-01,2.060e-01,1.917e-01,1.791e-01,1.679e-01,1.580e-01,1.489e-01,1.406e-01,1.331e-01,1.262e-01,1.197e-01,1.135e-01,1.080e-01,1.026e-01]\n",
    "\n",
    "plt.xlabel('Iterations')\n",
    "plt.ylabel('Loss')\n",
    "plt.title('Iterations vs Loss')\n",
    "plt.plot(iteration,lossval)"
   ]
  },
  {
   "cell_type": "code",
   "execution_count": null,
   "metadata": {
    "collapsed": true
   },
   "outputs": [],
   "source": []
  }
 ],
 "metadata": {
  "kernelspec": {
   "display_name": "Python 3",
   "language": "python",
   "name": "python3"
  },
  "language_info": {
   "codemirror_mode": {
    "name": "ipython",
    "version": 3
   },
   "file_extension": ".py",
   "mimetype": "text/x-python",
   "name": "python",
   "nbconvert_exporter": "python",
   "pygments_lexer": "ipython3",
   "version": "3.6.0"
  }
 },
 "nbformat": 4,
 "nbformat_minor": 2
}
