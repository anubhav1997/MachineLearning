{
 "cells": [
  {
   "cell_type": "code",
   "execution_count": 1,
   "metadata": {
    "collapsed": true
   },
   "outputs": [],
   "source": [
    "import h5py\n",
    "import numpy as np\n",
    "import pandas as pd\n",
    "from sklearn.neural_network import MLPClassifier\n",
    "from sklearn.model_selection import train_test_split\n",
    "from sklearn.preprocessing import StandardScaler\n",
    "from sklearn.metrics import accuracy_score"
   ]
  },
  {
   "cell_type": "code",
   "execution_count": 2,
   "metadata": {
    "collapsed": true
   },
   "outputs": [],
   "source": [
    "def load_h5py(filename):\n",
    "    with h5py.File(filename, 'r') as hf:\n",
    "        X = hf['X'][:]\n",
    "        Y = hf['Y'][:]\n",
    "    return X, Y"
   ]
  },
  {
   "cell_type": "code",
   "execution_count": 3,
   "metadata": {
    "collapsed": true
   },
   "outputs": [],
   "source": [
    "x,y=load_h5py('./dataset_partA.h5')\n",
    "\n",
    "\n",
    "\n",
    "x_arr=[]\n",
    "\n",
    "for xi in x:\n",
    "    x_arr.append(np.reshape(xi,xi.size))\n",
    "\n",
    "x=x_arr\n",
    "\n",
    "#number_of_samples=len(y)\n",
    "#num_train=int(number_of_samples*0.7)\n",
    "#num_test=int(number_of_samples*0.30)\n",
    "#random_indices = np.random.permutation(number_of_samples)\n",
    "#x_train = x[random_indices[:num_train]]\n",
    "#x_test = x[random_indices[num_train]]\n",
    "\n",
    "\n",
    "x_train,x_test,y_train,y_test=train_test_split(x,y,test_size=0.25,random_state=7)"
   ]
  },
  {
   "cell_type": "code",
   "execution_count": 4,
   "metadata": {
    "collapsed": true
   },
   "outputs": [],
   "source": [
    "scaler = StandardScaler()\n",
    "\n",
    "scaler.fit(x_train)\n",
    "x_train = scaler.transform(x_train)\n",
    "x_test = scaler.transform(x_test)"
   ]
  },
  {
   "cell_type": "code",
   "execution_count": 5,
   "metadata": {
    "collapsed": true
   },
   "outputs": [],
   "source": [
    "model=MLPClassifier(activation='logistic',solver='sgd',hidden_layer_sizes=(100,50), verbose=100, random_state=1) \n",
    "\n",
    "#activation: logistic, relu, tanh"
   ]
  },
  {
   "cell_type": "code",
   "execution_count": 6,
   "metadata": {},
   "outputs": [
    {
     "name": "stdout",
     "output_type": "stream",
     "text": [
      "Iteration 1, loss = 0.69365387\n",
      "Iteration 2, loss = 0.69081101\n",
      "Iteration 3, loss = 0.68878638\n",
      "Iteration 4, loss = 0.68673526\n",
      "Iteration 5, loss = 0.68466606\n",
      "Iteration 6, loss = 0.68240988\n",
      "Iteration 7, loss = 0.68000635\n",
      "Iteration 8, loss = 0.67743015\n",
      "Iteration 9, loss = 0.67463612\n",
      "Iteration 10, loss = 0.67151492\n",
      "Iteration 11, loss = 0.66806846\n",
      "Iteration 12, loss = 0.66422878\n",
      "Iteration 13, loss = 0.65986617\n",
      "Iteration 14, loss = 0.65499431\n",
      "Iteration 15, loss = 0.64940757\n",
      "Iteration 16, loss = 0.64304251\n",
      "Iteration 17, loss = 0.63577869\n",
      "Iteration 18, loss = 0.62753378\n",
      "Iteration 19, loss = 0.61803309\n",
      "Iteration 20, loss = 0.60723373\n",
      "Iteration 21, loss = 0.59489839\n",
      "Iteration 22, loss = 0.58099471\n",
      "Iteration 23, loss = 0.56535776\n",
      "Iteration 24, loss = 0.54791452\n",
      "Iteration 25, loss = 0.52873202\n",
      "Iteration 26, loss = 0.50793921\n",
      "Iteration 27, loss = 0.48567177\n",
      "Iteration 28, loss = 0.46242169\n",
      "Iteration 29, loss = 0.43853099\n",
      "Iteration 30, loss = 0.41442990\n",
      "Iteration 31, loss = 0.39073204\n",
      "Iteration 32, loss = 0.36782287\n",
      "Iteration 33, loss = 0.34607453\n",
      "Iteration 34, loss = 0.32572820\n",
      "Iteration 35, loss = 0.30701893\n",
      "Iteration 36, loss = 0.28991465\n",
      "Iteration 37, loss = 0.27445618\n",
      "Iteration 38, loss = 0.26051053\n",
      "Iteration 39, loss = 0.24802567\n",
      "Iteration 40, loss = 0.23683825\n",
      "Iteration 41, loss = 0.22684466\n",
      "Iteration 42, loss = 0.21789643\n",
      "Iteration 43, loss = 0.20991759\n",
      "Iteration 44, loss = 0.20274180\n",
      "Iteration 45, loss = 0.19629779\n",
      "Iteration 46, loss = 0.19051001\n",
      "Iteration 47, loss = 0.18528176\n",
      "Iteration 48, loss = 0.18055621\n",
      "Iteration 49, loss = 0.17623940\n",
      "Iteration 50, loss = 0.17226726\n",
      "Iteration 51, loss = 0.16867208\n",
      "Iteration 52, loss = 0.16537225\n",
      "Iteration 53, loss = 0.16234665\n",
      "Iteration 54, loss = 0.15953885\n",
      "Iteration 55, loss = 0.15694920\n",
      "Iteration 56, loss = 0.15456316\n",
      "Iteration 57, loss = 0.15233642\n",
      "Iteration 58, loss = 0.15025636\n",
      "Iteration 59, loss = 0.14832782\n",
      "Iteration 60, loss = 0.14651178\n",
      "Iteration 61, loss = 0.14479808\n",
      "Iteration 62, loss = 0.14319445\n",
      "Iteration 63, loss = 0.14168510\n",
      "Iteration 64, loss = 0.14026832\n",
      "Iteration 65, loss = 0.13892123\n",
      "Iteration 66, loss = 0.13765554\n",
      "Iteration 67, loss = 0.13645663\n",
      "Iteration 68, loss = 0.13529926\n",
      "Iteration 69, loss = 0.13422695\n",
      "Iteration 70, loss = 0.13317684\n",
      "Iteration 71, loss = 0.13219964\n",
      "Iteration 72, loss = 0.13123479\n",
      "Iteration 73, loss = 0.13033286\n",
      "Iteration 74, loss = 0.12948106\n",
      "Iteration 75, loss = 0.12864074\n",
      "Iteration 76, loss = 0.12783309\n",
      "Iteration 77, loss = 0.12706272\n",
      "Iteration 78, loss = 0.12633995\n",
      "Iteration 79, loss = 0.12561247\n",
      "Iteration 80, loss = 0.12492613\n",
      "Iteration 81, loss = 0.12425836\n",
      "Iteration 82, loss = 0.12361027\n",
      "Iteration 83, loss = 0.12299197\n",
      "Iteration 84, loss = 0.12238583\n",
      "Iteration 85, loss = 0.12179689\n",
      "Iteration 86, loss = 0.12122233\n",
      "Iteration 87, loss = 0.12066440\n",
      "Iteration 88, loss = 0.12013179\n",
      "Iteration 89, loss = 0.11962346\n",
      "Iteration 90, loss = 0.11909936\n",
      "Iteration 91, loss = 0.11861708\n",
      "Iteration 92, loss = 0.11815153\n",
      "Iteration 93, loss = 0.11767113\n",
      "Iteration 94, loss = 0.11720615\n",
      "Iteration 95, loss = 0.11675580\n",
      "Iteration 96, loss = 0.11631358\n",
      "Iteration 97, loss = 0.11589827\n",
      "Iteration 98, loss = 0.11547813\n",
      "Iteration 99, loss = 0.11506251\n",
      "Iteration 100, loss = 0.11465299\n",
      "Iteration 101, loss = 0.11425073\n",
      "Iteration 102, loss = 0.11384982\n",
      "Iteration 103, loss = 0.11348019\n",
      "Iteration 104, loss = 0.11311606\n",
      "Iteration 105, loss = 0.11275243\n",
      "Iteration 106, loss = 0.11241597\n",
      "Iteration 107, loss = 0.11202902\n",
      "Iteration 108, loss = 0.11171808\n",
      "Iteration 109, loss = 0.11133642\n",
      "Iteration 110, loss = 0.11101679\n",
      "Iteration 111, loss = 0.11068186\n",
      "Iteration 112, loss = 0.11035540\n",
      "Iteration 113, loss = 0.11003897\n",
      "Iteration 114, loss = 0.10971282\n",
      "Iteration 115, loss = 0.10939226\n",
      "Iteration 116, loss = 0.10907843\n",
      "Iteration 117, loss = 0.10878055\n",
      "Iteration 118, loss = 0.10847828\n",
      "Iteration 119, loss = 0.10820240\n",
      "Iteration 120, loss = 0.10788165\n",
      "Iteration 121, loss = 0.10760278\n",
      "Iteration 122, loss = 0.10730597\n",
      "Iteration 123, loss = 0.10703095\n",
      "Iteration 124, loss = 0.10674019\n",
      "Iteration 125, loss = 0.10647294\n",
      "Iteration 126, loss = 0.10619239\n",
      "Iteration 127, loss = 0.10593601\n",
      "Iteration 128, loss = 0.10567335\n",
      "Iteration 129, loss = 0.10538381\n",
      "Iteration 130, loss = 0.10513113\n",
      "Iteration 131, loss = 0.10486329\n",
      "Iteration 132, loss = 0.10462347\n",
      "Iteration 133, loss = 0.10436506\n",
      "Iteration 134, loss = 0.10410649\n",
      "Iteration 135, loss = 0.10386676\n",
      "Iteration 136, loss = 0.10361423\n",
      "Iteration 137, loss = 0.10338984\n",
      "Iteration 138, loss = 0.10312131\n",
      "Iteration 139, loss = 0.10287355\n",
      "Iteration 140, loss = 0.10264654\n",
      "Iteration 141, loss = 0.10241046\n",
      "Iteration 142, loss = 0.10217898\n",
      "Iteration 143, loss = 0.10193838\n",
      "Iteration 144, loss = 0.10170717\n",
      "Iteration 145, loss = 0.10146290\n",
      "Iteration 146, loss = 0.10123172\n",
      "Iteration 147, loss = 0.10101606\n",
      "Iteration 148, loss = 0.10079088\n",
      "Iteration 149, loss = 0.10055991\n",
      "Iteration 150, loss = 0.10033071\n",
      "Iteration 151, loss = 0.10013189\n",
      "Iteration 152, loss = 0.09991266\n",
      "Iteration 153, loss = 0.09968715\n",
      "Iteration 154, loss = 0.09947348\n",
      "Iteration 155, loss = 0.09928537\n",
      "Iteration 156, loss = 0.09905557\n",
      "Iteration 157, loss = 0.09884212\n",
      "Iteration 158, loss = 0.09862339\n",
      "Iteration 159, loss = 0.09841052\n",
      "Iteration 160, loss = 0.09820839\n",
      "Iteration 161, loss = 0.09800044\n",
      "Iteration 162, loss = 0.09779388\n",
      "Iteration 163, loss = 0.09759706\n",
      "Iteration 164, loss = 0.09739656\n",
      "Iteration 165, loss = 0.09718560\n",
      "Iteration 166, loss = 0.09699684\n",
      "Iteration 167, loss = 0.09679320\n",
      "Iteration 168, loss = 0.09660426\n",
      "Iteration 169, loss = 0.09640047\n",
      "Iteration 170, loss = 0.09621805\n",
      "Iteration 171, loss = 0.09600725\n",
      "Iteration 172, loss = 0.09581573\n",
      "Iteration 173, loss = 0.09561873\n",
      "Iteration 174, loss = 0.09545347\n",
      "Iteration 175, loss = 0.09524145\n",
      "Iteration 176, loss = 0.09505232\n",
      "Iteration 177, loss = 0.09485466\n",
      "Iteration 178, loss = 0.09469281\n",
      "Iteration 179, loss = 0.09447775\n",
      "Iteration 180, loss = 0.09430586\n",
      "Iteration 181, loss = 0.09413348\n",
      "Iteration 182, loss = 0.09391440\n",
      "Iteration 183, loss = 0.09373780\n",
      "Iteration 184, loss = 0.09354222\n",
      "Iteration 185, loss = 0.09335888\n",
      "Iteration 186, loss = 0.09319539\n",
      "Iteration 187, loss = 0.09300496\n",
      "Iteration 188, loss = 0.09282413\n",
      "Iteration 189, loss = 0.09264201\n",
      "Iteration 190, loss = 0.09245751\n",
      "Iteration 191, loss = 0.09230703\n",
      "Iteration 192, loss = 0.09211268\n",
      "Iteration 193, loss = 0.09193105\n",
      "Iteration 194, loss = 0.09174624\n",
      "Iteration 195, loss = 0.09158856\n",
      "Iteration 196, loss = 0.09141308\n",
      "Iteration 197, loss = 0.09125468\n",
      "Iteration 198, loss = 0.09108274\n",
      "Iteration 199, loss = 0.09090078\n",
      "Iteration 200, loss = 0.09072878\n"
     ]
    },
    {
     "name": "stderr",
     "output_type": "stream",
     "text": [
      "/usr/local/lib/python3.6/site-packages/sklearn/neural_network/multilayer_perceptron.py:564: ConvergenceWarning: Stochastic Optimizer: Maximum iterations (200) reached and the optimization hasn't converged yet.\n",
      "  % self.max_iter, ConvergenceWarning)\n"
     ]
    },
    {
     "data": {
      "text/plain": [
       "MLPClassifier(activation='logistic', alpha=0.0001, batch_size='auto',\n",
       "       beta_1=0.9, beta_2=0.999, early_stopping=False, epsilon=1e-08,\n",
       "       hidden_layer_sizes=(100, 50), learning_rate='constant',\n",
       "       learning_rate_init=0.001, max_iter=200, momentum=0.9,\n",
       "       nesterovs_momentum=True, power_t=0.5, random_state=1, shuffle=True,\n",
       "       solver='sgd', tol=0.0001, validation_fraction=0.1, verbose=100,\n",
       "       warm_start=False)"
      ]
     },
     "execution_count": 6,
     "metadata": {},
     "output_type": "execute_result"
    }
   ],
   "source": [
    "model.fit(x_train,y_train)"
   ]
  },
  {
   "cell_type": "code",
   "execution_count": 7,
   "metadata": {},
   "outputs": [
    {
     "name": "stdout",
     "output_type": "stream",
     "text": [
      "96.3233230424\n"
     ]
    }
   ],
   "source": [
    "predicted=model.predict(x_test)\n",
    "\n",
    "print(accuracy_score(y_test, predicted)*100)"
   ]
  },
  {
   "cell_type": "code",
   "execution_count": 10,
   "metadata": {},
   "outputs": [
    {
     "data": {
      "text/plain": [
       "[<matplotlib.lines.Line2D at 0x112c00eb8>]"
      ]
     },
     "execution_count": 10,
     "metadata": {},
     "output_type": "execute_result"
    },
    {
     "data": {
      "image/png": "[encoded data removed]",
      "text/plain": [
       "<matplotlib.figure.Figure at 0x112b6f240>"
      ]
     },
     "metadata": {},
     "output_type": "display_data"
    }
   ],
   "source": [
    "%matplotlib inline\n",
    "import matplotlib.pyplot as plt\n",
    "\n",
    "iteration=[1,25,50,75,100,125,150,175,200]\n",
    "lossval=[0.693,0.528,0.172,0.128,0.114,0.106,0.100,0.095,0.090]\n",
    "\n",
    "plt.xlabel('Iterations')\n",
    "plt.ylabel('Loss')\n",
    "plt.title('Iterations vs Loss')\n",
    "plt.plot(iteration,lossval)"
   ]
  },
  {
   "cell_type": "code",
   "execution_count": 11,
   "metadata": {},
   "outputs": [
    {
     "data": {
      "text/plain": [
       "['q2_1.pkl']"
      ]
     },
     "execution_count": 11,
     "metadata": {},
     "output_type": "execute_result"
    }
   ],
   "source": [
    "from sklearn.externals import joblib\n",
    "joblib.dump(model, 'q2_1.pkl') "
   ]
  },
  {
   "cell_type": "code",
   "execution_count": null,
   "metadata": {
    "collapsed": true
   },
   "outputs": [],
   "source": []
  }
 ],
 "metadata": {
  "kernelspec": {
   "display_name": "Python 3",
   "language": "python",
   "name": "python3"
  },
  "language_info": {
   "codemirror_mode": {
    "name": "ipython",
    "version": 3
   },
   "file_extension": ".py",
   "mimetype": "text/x-python",
   "name": "python",
   "nbconvert_exporter": "python",
   "pygments_lexer": "ipython3",
   "version": "3.6.0"
  }
 },
 "nbformat": 4,
 "nbformat_minor": 2
}
