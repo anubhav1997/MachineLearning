{
 "cells": [
  {
   "cell_type": "code",
   "execution_count": 1,
   "metadata": {},
   "outputs": [
    {
     "name": "stderr",
     "output_type": "stream",
     "text": [
      "/usr/local/lib/python3.6/site-packages/sklearn/cross_validation.py:41: DeprecationWarning: This module was deprecated in version 0.18 in favor of the model_selection module into which all the refactored classes and functions are moved. Also note that the interface of the new CV iterators are different from that of this module. This module will be removed in 0.20.\n",
      "  \"This module will be removed in 0.20.\", DeprecationWarning)\n"
     ]
    }
   ],
   "source": [
    "import h5py\n",
    "import numpy as np\n",
    "import pandas as pd\n",
    "from sklearn.neural_network import MLPClassifier\n",
    "from sklearn.model_selection import train_test_split\n",
    "from sklearn.preprocessing import StandardScaler\n",
    "from sklearn.metrics import accuracy_score\n",
    "from sklearn.datasets import fetch_mldata\n",
    "from sknn.mlp import Classifier, Layer"
   ]
  },
  {
   "cell_type": "code",
   "execution_count": 2,
   "metadata": {
    "collapsed": true
   },
   "outputs": [],
   "source": [
    "def load_h5py(filename):\n",
    "    with h5py.File(filename, 'r') as hf:\n",
    "        X = hf['X'][:]\n",
    "        Y = hf['Y'][:]\n",
    "    return X, Y"
   ]
  },
  {
   "cell_type": "code",
   "execution_count": 3,
   "metadata": {
    "collapsed": true
   },
   "outputs": [],
   "source": [
    "x,y=load_h5py('./dataset_partA.h5')\n",
    "\n",
    "\n",
    "x_arr=[]\n",
    "\n",
    "for xi in x:\n",
    "    x_arr.append(np.reshape(xi,xi.size))\n",
    "\n",
    "x=x_arr\n",
    "\n",
    "\n",
    "#number_of_samples=len(y)\n",
    "#num_train=int(number_of_samples*0.7)\n",
    "#num_test=int(number_of_samples*0.30)\n",
    "#random_indices = np.random.permutation(number_of_samples)\n",
    "#x_train = x[random_indices[:num_train]]\n",
    "#x_test = x[random_indices[num_train]]\n",
    "\n",
    "\n",
    "x_train,x_test,y_train,y_test=train_test_split(x,y,test_size=0.25,random_state=7)"
   ]
  },
  {
   "cell_type": "code",
   "execution_count": 4,
   "metadata": {
    "collapsed": true
   },
   "outputs": [],
   "source": [
    "scaler = StandardScaler()\n",
    "\n",
    "scaler.fit(x_train)\n",
    "x_train = scaler.transform(x_train)\n",
    "x_test = scaler.transform(x_test)\n"
   ]
  },
  {
   "cell_type": "markdown",
   "metadata": {},
   "source": [
    "# Model 1"
   ]
  },
  {
   "cell_type": "code",
   "execution_count": 5,
   "metadata": {
    "collapsed": true
   },
   "outputs": [],
   "source": [
    "model1=MLPClassifier(activation='logistic',solver='sgd',hidden_layer_sizes=(100,75,50,10),random_state=1) "
   ]
  },
  {
   "cell_type": "code",
   "execution_count": 6,
   "metadata": {},
   "outputs": [
    {
     "data": {
      "text/plain": [
       "MLPClassifier(activation='logistic', alpha=0.0001, batch_size='auto',\n",
       "       beta_1=0.9, beta_2=0.999, early_stopping=False, epsilon=1e-08,\n",
       "       hidden_layer_sizes=(100, 75, 50, 10), learning_rate='constant',\n",
       "       learning_rate_init=0.001, max_iter=200, momentum=0.9,\n",
       "       nesterovs_momentum=True, power_t=0.5, random_state=1, shuffle=True,\n",
       "       solver='sgd', tol=0.0001, validation_fraction=0.1, verbose=False,\n",
       "       warm_start=False)"
      ]
     },
     "execution_count": 6,
     "metadata": {},
     "output_type": "execute_result"
    }
   ],
   "source": [
    "model1.fit(x_train,y_train)"
   ]
  },
  {
   "cell_type": "code",
   "execution_count": 7,
   "metadata": {},
   "outputs": [
    {
     "name": "stdout",
     "output_type": "stream",
     "text": [
      "51.3892786977\n"
     ]
    }
   ],
   "source": [
    "predicted1=model1.predict(x_test)\n",
    "\n",
    "print(accuracy_score(y_test, predicted1)*100)"
   ]
  },
  {
   "cell_type": "markdown",
   "metadata": {},
   "source": [
    "# Model 2"
   ]
  },
  {
   "cell_type": "code",
   "execution_count": 5,
   "metadata": {
    "collapsed": true
   },
   "outputs": [],
   "source": [
    "model2=MLPClassifier(activation='relu',solver='sgd',hidden_layer_sizes=(100,50,10), verbose=100,random_state=1) "
   ]
  },
  {
   "cell_type": "code",
   "execution_count": 6,
   "metadata": {},
   "outputs": [
    {
     "name": "stdout",
     "output_type": "stream",
     "text": [
      "Iteration 1, loss = 0.67164262\n",
      "Iteration 2, loss = 0.49123962\n",
      "Iteration 3, loss = 0.33971595\n",
      "Iteration 4, loss = 0.23837676\n",
      "Iteration 5, loss = 0.17897108\n",
      "Iteration 6, loss = 0.14485495\n",
      "Iteration 7, loss = 0.12390900\n",
      "Iteration 8, loss = 0.10977924\n",
      "Iteration 9, loss = 0.09932463\n",
      "Iteration 10, loss = 0.09114228\n",
      "Iteration 11, loss = 0.08461924\n",
      "Iteration 12, loss = 0.07913318\n",
      "Iteration 13, loss = 0.07441092\n",
      "Iteration 14, loss = 0.07010848\n",
      "Iteration 15, loss = 0.06631487\n",
      "Iteration 16, loss = 0.06310156\n",
      "Iteration 17, loss = 0.06009198\n",
      "Iteration 18, loss = 0.05742855\n",
      "Iteration 19, loss = 0.05491135\n",
      "Iteration 20, loss = 0.05257411\n",
      "Iteration 21, loss = 0.05047460\n",
      "Iteration 22, loss = 0.04854152\n",
      "Iteration 23, loss = 0.04668130\n",
      "Iteration 24, loss = 0.04490385\n",
      "Iteration 25, loss = 0.04314781\n",
      "Iteration 26, loss = 0.04149966\n",
      "Iteration 27, loss = 0.04002164\n",
      "Iteration 28, loss = 0.03859540\n",
      "Iteration 29, loss = 0.03731791\n",
      "Iteration 30, loss = 0.03611514\n",
      "Iteration 31, loss = 0.03490541\n",
      "Iteration 32, loss = 0.03381058\n",
      "Iteration 33, loss = 0.03282828\n",
      "Iteration 34, loss = 0.03178670\n",
      "Iteration 35, loss = 0.03085567\n",
      "Iteration 36, loss = 0.02998986\n",
      "Iteration 37, loss = 0.02904799\n",
      "Iteration 38, loss = 0.02816468\n",
      "Iteration 39, loss = 0.02727938\n",
      "Iteration 40, loss = 0.02650962\n",
      "Iteration 41, loss = 0.02574488\n",
      "Iteration 42, loss = 0.02498818\n",
      "Iteration 43, loss = 0.02427393\n",
      "Iteration 44, loss = 0.02357336\n",
      "Iteration 45, loss = 0.02289514\n",
      "Iteration 46, loss = 0.02226049\n",
      "Iteration 47, loss = 0.02161415\n",
      "Iteration 48, loss = 0.02100613\n",
      "Iteration 49, loss = 0.02042349\n",
      "Iteration 50, loss = 0.01989896\n",
      "Iteration 51, loss = 0.01933476\n",
      "Iteration 52, loss = 0.01880911\n",
      "Iteration 53, loss = 0.01831523\n",
      "Iteration 54, loss = 0.01786251\n",
      "Iteration 55, loss = 0.01736101\n",
      "Iteration 56, loss = 0.01689234\n",
      "Iteration 57, loss = 0.01648158\n",
      "Iteration 58, loss = 0.01603067\n",
      "Iteration 59, loss = 0.01563991\n",
      "Iteration 60, loss = 0.01524112\n",
      "Iteration 61, loss = 0.01484943\n",
      "Iteration 62, loss = 0.01447255\n",
      "Iteration 63, loss = 0.01411839\n",
      "Iteration 64, loss = 0.01378855\n",
      "Iteration 65, loss = 0.01342405\n",
      "Iteration 66, loss = 0.01312012\n",
      "Iteration 67, loss = 0.01277881\n",
      "Iteration 68, loss = 0.01248779\n",
      "Iteration 69, loss = 0.01218445\n",
      "Iteration 70, loss = 0.01185608\n",
      "Iteration 71, loss = 0.01160903\n",
      "Iteration 72, loss = 0.01132169\n",
      "Iteration 73, loss = 0.01105113\n",
      "Iteration 74, loss = 0.01078743\n",
      "Iteration 75, loss = 0.01054273\n",
      "Iteration 76, loss = 0.01030004\n",
      "Iteration 77, loss = 0.01005387\n",
      "Iteration 78, loss = 0.00982510\n",
      "Iteration 79, loss = 0.00960358\n",
      "Iteration 80, loss = 0.00937679\n",
      "Iteration 81, loss = 0.00915802\n",
      "Iteration 82, loss = 0.00896608\n",
      "Iteration 83, loss = 0.00876202\n",
      "Iteration 84, loss = 0.00857237\n",
      "Iteration 85, loss = 0.00838138\n",
      "Iteration 86, loss = 0.00819713\n",
      "Iteration 87, loss = 0.00802499\n",
      "Iteration 88, loss = 0.00784217\n",
      "Iteration 89, loss = 0.00767664\n",
      "Iteration 90, loss = 0.00752393\n",
      "Iteration 91, loss = 0.00736386\n",
      "Iteration 92, loss = 0.00720774\n",
      "Iteration 93, loss = 0.00704203\n",
      "Iteration 94, loss = 0.00689626\n",
      "Iteration 95, loss = 0.00675196\n",
      "Iteration 96, loss = 0.00660687\n",
      "Iteration 97, loss = 0.00647095\n",
      "Iteration 98, loss = 0.00633582\n",
      "Iteration 99, loss = 0.00620756\n",
      "Iteration 100, loss = 0.00608463\n",
      "Iteration 101, loss = 0.00595242\n",
      "Iteration 102, loss = 0.00582977\n",
      "Iteration 103, loss = 0.00571082\n",
      "Iteration 104, loss = 0.00559687\n",
      "Iteration 105, loss = 0.00548482\n",
      "Iteration 106, loss = 0.00537796\n",
      "Iteration 107, loss = 0.00527296\n",
      "Iteration 108, loss = 0.00515885\n",
      "Iteration 109, loss = 0.00505688\n",
      "Iteration 110, loss = 0.00496320\n",
      "Iteration 111, loss = 0.00486144\n",
      "Iteration 112, loss = 0.00476141\n",
      "Iteration 113, loss = 0.00467176\n",
      "Iteration 114, loss = 0.00457992\n",
      "Iteration 115, loss = 0.00449141\n",
      "Training loss did not improve more than tol=0.000100 for two consecutive epochs. Stopping.\n"
     ]
    },
    {
     "data": {
      "text/plain": [
       "MLPClassifier(activation='relu', alpha=0.0001, batch_size='auto', beta_1=0.9,\n",
       "       beta_2=0.999, early_stopping=False, epsilon=1e-08,\n",
       "       hidden_layer_sizes=(100, 50, 10), learning_rate='constant',\n",
       "       learning_rate_init=0.001, max_iter=200, momentum=0.9,\n",
       "       nesterovs_momentum=True, power_t=0.5, random_state=1, shuffle=True,\n",
       "       solver='sgd', tol=0.0001, validation_fraction=0.1, verbose=100,\n",
       "       warm_start=False)"
      ]
     },
     "execution_count": 6,
     "metadata": {},
     "output_type": "execute_result"
    }
   ],
   "source": [
    "model2.fit(x_train,y_train)"
   ]
  },
  {
   "cell_type": "code",
   "execution_count": 7,
   "metadata": {},
   "outputs": [
    {
     "name": "stdout",
     "output_type": "stream",
     "text": [
      "98.4282907662\n"
     ]
    }
   ],
   "source": [
    "predicted2=model2.predict(x_test)\n",
    "\n",
    "print(accuracy_score(y_test, predicted2)*100)"
   ]
  },
  {
   "cell_type": "code",
   "execution_count": 8,
   "metadata": {},
   "outputs": [
    {
     "data": {
      "text/plain": [
       "[<matplotlib.lines.Line2D at 0x1104ade10>]"
      ]
     },
     "execution_count": 8,
     "metadata": {},
     "output_type": "execute_result"
    },
    {
     "data": {
      "image/png": "[encoded data removed]",
      "text/plain": [
       "<matplotlib.figure.Figure at 0x1103864e0>"
      ]
     },
     "metadata": {},
     "output_type": "display_data"
    }
   ],
   "source": [
    "%matplotlib inline\n",
    "import matplotlib.pyplot as plt\n",
    "\n",
    "iteration=[1,25,50,75,100,125,150,175,200]\n",
    "lossval=[0.671,0.043,0.019,0.010,0.006,0.106,0.0045,0.0044,0.003]\n",
    "\n",
    "plt.xlabel('Iterations')\n",
    "plt.ylabel('Loss')\n",
    "plt.title('Iterations vs Loss')\n",
    "plt.plot(iteration,lossval)"
   ]
  },
  {
   "cell_type": "code",
   "execution_count": 10,
   "metadata": {},
   "outputs": [
    {
     "data": {
      "text/plain": [
       "['q3.pkl']"
      ]
     },
     "execution_count": 10,
     "metadata": {},
     "output_type": "execute_result"
    }
   ],
   "source": [
    "from sklearn.externals import joblib\n",
    "joblib.dump(model2, 'q3.pkl') "
   ]
  },
  {
   "cell_type": "markdown",
   "metadata": {},
   "source": [
    "# Model 3"
   ]
  },
  {
   "cell_type": "code",
   "execution_count": 11,
   "metadata": {
    "collapsed": true
   },
   "outputs": [],
   "source": [
    "model3=MLPClassifier(activation='tanh',solver='sgd',hidden_layer_sizes=(100,50,75,10),random_state=1) "
   ]
  },
  {
   "cell_type": "code",
   "execution_count": 12,
   "metadata": {},
   "outputs": [
    {
     "data": {
      "text/plain": [
       "MLPClassifier(activation='tanh', alpha=0.0001, batch_size='auto', beta_1=0.9,\n",
       "       beta_2=0.999, early_stopping=False, epsilon=1e-08,\n",
       "       hidden_layer_sizes=(100, 50, 75, 10), learning_rate='constant',\n",
       "       learning_rate_init=0.001, max_iter=200, momentum=0.9,\n",
       "       nesterovs_momentum=True, power_t=0.5, random_state=1, shuffle=True,\n",
       "       solver='sgd', tol=0.0001, validation_fraction=0.1, verbose=False,\n",
       "       warm_start=False)"
      ]
     },
     "execution_count": 12,
     "metadata": {},
     "output_type": "execute_result"
    }
   ],
   "source": [
    "model3.fit(x_train,y_train)"
   ]
  },
  {
   "cell_type": "code",
   "execution_count": 13,
   "metadata": {},
   "outputs": [
    {
     "name": "stdout",
     "output_type": "stream",
     "text": [
      "97.530171204\n"
     ]
    }
   ],
   "source": [
    "predicted3=model3.predict(x_test)\n",
    "\n",
    "print(accuracy_score(y_test, predicted3)*100)"
   ]
  },
  {
   "cell_type": "markdown",
   "metadata": {},
   "source": [
    "# Model 4"
   ]
  },
  {
   "cell_type": "code",
   "execution_count": 14,
   "metadata": {
    "collapsed": true
   },
   "outputs": [],
   "source": [
    "model4=MLPClassifier(activation='tanh',solver='sgd',hidden_layer_sizes=(300,150,100,50,10),random_state=1) "
   ]
  },
  {
   "cell_type": "code",
   "execution_count": 15,
   "metadata": {},
   "outputs": [
    {
     "data": {
      "text/plain": [
       "MLPClassifier(activation='tanh', alpha=0.0001, batch_size='auto', beta_1=0.9,\n",
       "       beta_2=0.999, early_stopping=False, epsilon=1e-08,\n",
       "       hidden_layer_sizes=(300, 150, 100, 50, 10),\n",
       "       learning_rate='constant', learning_rate_init=0.001, max_iter=200,\n",
       "       momentum=0.9, nesterovs_momentum=True, power_t=0.5, random_state=1,\n",
       "       shuffle=True, solver='sgd', tol=0.0001, validation_fraction=0.1,\n",
       "       verbose=False, warm_start=False)"
      ]
     },
     "execution_count": 15,
     "metadata": {},
     "output_type": "execute_result"
    }
   ],
   "source": [
    "model4.fit(x_train,y_train)"
   ]
  },
  {
   "cell_type": "code",
   "execution_count": 16,
   "metadata": {},
   "outputs": [
    {
     "name": "stdout",
     "output_type": "stream",
     "text": [
      "97.614369913\n"
     ]
    }
   ],
   "source": [
    "predicted4=model4.predict(x_test)\n",
    "\n",
    "print(accuracy_score(y_test, predicted4)*100)"
   ]
  },
  {
   "cell_type": "markdown",
   "metadata": {},
   "source": [
    "# Model 5"
   ]
  },
  {
   "cell_type": "code",
   "execution_count": 8,
   "metadata": {
    "collapsed": true
   },
   "outputs": [],
   "source": [
    "model5=MLPClassifier(activation='relu',solver='sgd',hidden_layer_sizes=(300,200,150,100,50,10),random_state=1) "
   ]
  },
  {
   "cell_type": "code",
   "execution_count": 9,
   "metadata": {},
   "outputs": [
    {
     "data": {
      "text/plain": [
       "MLPClassifier(activation='relu', alpha=0.0001, batch_size='auto', beta_1=0.9,\n",
       "       beta_2=0.999, early_stopping=False, epsilon=1e-08,\n",
       "       hidden_layer_sizes=(300, 200, 150, 100, 50, 10),\n",
       "       learning_rate='constant', learning_rate_init=0.001, max_iter=200,\n",
       "       momentum=0.9, nesterovs_momentum=True, power_t=0.5, random_state=1,\n",
       "       shuffle=True, solver='sgd', tol=0.0001, validation_fraction=0.1,\n",
       "       verbose=False, warm_start=False)"
      ]
     },
     "execution_count": 9,
     "metadata": {},
     "output_type": "execute_result"
    }
   ],
   "source": [
    "model5.fit(x_train,y_train)"
   ]
  },
  {
   "cell_type": "code",
   "execution_count": 11,
   "metadata": {},
   "outputs": [
    {
     "name": "stdout",
     "output_type": "stream",
     "text": [
      "98.2598933483\n"
     ]
    }
   ],
   "source": [
    "predicted5=model5.predict(x_test)\n",
    "\n",
    "print(accuracy_score(y_test, predicted5)*100)"
   ]
  },
  {
   "cell_type": "code",
   "execution_count": null,
   "metadata": {
    "collapsed": true
   },
   "outputs": [],
   "source": []
  }
 ],
 "metadata": {
  "kernelspec": {
   "display_name": "Python 3",
   "language": "python",
   "name": "python3"
  },
  "language_info": {
   "codemirror_mode": {
    "name": "ipython",
    "version": 3
   },
   "file_extension": ".py",
   "mimetype": "text/x-python",
   "name": "python",
   "nbconvert_exporter": "python",
   "pygments_lexer": "ipython3",
   "version": "3.6.0"
  }
 },
 "nbformat": 4,
 "nbformat_minor": 2
}
