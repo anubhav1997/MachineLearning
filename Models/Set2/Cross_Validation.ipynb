{
 "cells": [
  {
   "cell_type": "markdown",
   "metadata": {},
   "source": [
    "# Cross Validation"
   ]
  },
  {
   "cell_type": "code",
   "execution_count": null,
   "metadata": {
    "collapsed": true
   },
   "outputs": [],
   "source": [
    "from sklearn.model_selection import cross_val_score\n",
    "from sklearn.neighbors import KNeighborsClassifier\n",
    "\n",
    "model=KneighborsClassifier(n_neighbors=5)\n",
    "X=x.as_matrix()\n",
    "Y=y.as_matrix()\n",
    "\n",
    "cv_scores=cross_val_score(model,X,Y)"
   ]
  },
  {
   "cell_type": "markdown",
   "metadata": {},
   "source": [
    "Cross Validation score will give an array of different accuracies for cross validations. Usually, a mean of all those is given as an output.\n",
    "\n",
    "The problem with cross validation is that the data may be ordered in a particular way. Hence, a validation set may be biased and may not give true output.\n",
    "\n",
    "To solve this we may use stratified cross validation.\n",
    "\n",
    "Another method is leave-one-out cross validation.\n",
    "\n",
    "All these techniques are computationally expensive.\n",
    "\n",
    "## Validation Curve\n",
    "\n",
    "Validation curve shows variation or senstivity to changes in a paramter."
   ]
  },
  {
   "cell_type": "code",
   "execution_count": null,
   "metadata": {},
   "outputs": [],
   "source": [
    "from sklearn.model_selection import validation_curve\n",
    "from sklearn.svm import SVC\n",
    "\n",
    "parameter_range=np.logspace(-3,3,4)\n",
    "\n",
    "train_scores,test_scores=validation_curve(SVC(),X,Y,param_name='gamma',param_range=paramter_range,cv=5)"
   ]
  },
  {
   "cell_type": "markdown",
   "metadata": {},
   "source": [
    "X-Axis shows paramter and Y-Axis shows the accuracy"
   ]
  }
 ],
 "metadata": {
  "kernelspec": {
   "display_name": "Python 3",
   "language": "python",
   "name": "python3"
  },
  "language_info": {
   "codemirror_mode": {
    "name": "ipython",
    "version": 3
   },
   "file_extension": ".py",
   "mimetype": "text/x-python",
   "name": "python",
   "nbconvert_exporter": "python",
   "pygments_lexer": "ipython3",
   "version": "3.6.0"
  }
 },
 "nbformat": 4,
 "nbformat_minor": 2
}
