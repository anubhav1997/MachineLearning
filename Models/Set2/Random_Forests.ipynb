{
 "cells": [
  {
   "cell_type": "markdown",
   "metadata": {},
   "source": [
    "# Random Forests\n",
    "\n",
    "It is an ensemble technique by which we collect multiple learning models and combine them together to get a learning model better than individual learning model.\n",
    "\n",
    "Random Forests are ensemble for Decision tree and uses multiple decision trees. Single tree is prone to overfitting while multiple trees are stable and provide generalization(works in real world or unseen test cases).\n",
    "\n",
    "max_features paramter==1 will create simple but diverse and complex trees\n",
    "max_feature== large value will create similar trees\n",
    "\n",
    "For regression, the overall output is the mean of indivdual output.\n",
    "For classification, the overall output is done using voting."
   ]
  },
  {
   "cell_type": "code",
   "execution_count": null,
   "metadata": {
    "collapsed": true
   },
   "outputs": [],
   "source": [
    "from sklearn.ensemble import RandomForestClassifier\n",
    "from sklearn.ensemble import RandomForestRegressor\n",
    "\n",
    "model=RandomForestClassifier(max_feature=8,random_state=0)\n",
    "model.fit(x_train,y_train)"
   ]
  },
  {
   "cell_type": "markdown",
   "metadata": {},
   "source": [
    "Scaling may not be required for random forests and provides good result comparable to SVM and neural networks.\n",
    "max_depth can be changed to improve performance. n_jobs defines number of cores to use parallelly for execution."
   ]
  }
 ],
 "metadata": {
  "kernelspec": {
   "display_name": "Python 3",
   "language": "python",
   "name": "python3"
  },
  "language_info": {
   "codemirror_mode": {
    "name": "ipython",
    "version": 3
   },
   "file_extension": ".py",
   "mimetype": "text/x-python",
   "name": "python",
   "nbconvert_exporter": "python",
   "pygments_lexer": "ipython3",
   "version": "3.6.0"
  }
 },
 "nbformat": 4,
 "nbformat_minor": 2
}
