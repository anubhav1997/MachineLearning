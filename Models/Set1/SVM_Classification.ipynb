{
 "cells": [
  {
   "cell_type": "markdown",
   "metadata": {},
   "source": [
    "# SVM Classification"
   ]
  },
  {
   "cell_type": "code",
   "execution_count": 4,
   "metadata": {},
   "outputs": [],
   "source": [
    "import numpy as np\n",
    "import matplotlib.pyplot as plt\n",
    "from sklearn import datasets, svm\n",
    "from sklearn.cross_validation import train_test_split"
   ]
  },
  {
   "cell_type": "code",
   "execution_count": 5,
   "metadata": {
    "collapsed": true
   },
   "outputs": [],
   "source": [
    "iris=datasets.load_iris()\n",
    "x=iris.data[:,:2]\n",
    "y=iris.target\n",
    "\n",
    "x_train,x_test,y_train,y_test=train_test_split(x,y,test_size=0.25,random_state=42)"
   ]
  },
  {
   "cell_type": "code",
   "execution_count": 6,
   "metadata": {
    "collapsed": true
   },
   "outputs": [],
   "source": [
    "def evaluate(model=None):\n",
    "    predictions=model.predict(x_test)\n",
    "    correct_classification=0\n",
    "    for i in range(len(y_test)):\n",
    "        if predictions[i]==y_test[i]:\n",
    "            correct_classification+=1\n",
    "    accuracy=(correct_classification/len(y_test))*100\n",
    "    return accuracy"
   ]
  },
  {
   "cell_type": "code",
   "execution_count": 9,
   "metadata": {},
   "outputs": [
    {
     "name": "stdout",
     "output_type": "stream",
     "text": [
      "Accuracy: 84.21052631578947  Kernel: linear\n",
      "Accuracy: 81.57894736842105  Kernel: poly\n",
      "Accuracy: 84.21052631578947  Kernel: rbf\n"
     ]
    }
   ],
   "source": [
    "kernels=('linear','poly','rbf')\n",
    "for index,kernel in enumerate(kernels):\n",
    "    model=svm.SVC(kernel=kernel)\n",
    "    model.fit(x_train,y_train)\n",
    "    accuracy=evaluate(model)\n",
    "    print('Accuracy:',accuracy,' Kernel:',kernel)"
   ]
  },
  {
   "cell_type": "code",
   "execution_count": null,
   "metadata": {
    "collapsed": true
   },
   "outputs": [],
   "source": []
  }
 ],
 "metadata": {
  "kernelspec": {
   "display_name": "Python 3",
   "language": "python",
   "name": "python3"
  },
  "language_info": {
   "codemirror_mode": {
    "name": "ipython",
    "version": 3
   },
   "file_extension": ".py",
   "mimetype": "text/x-python",
   "name": "python",
   "nbconvert_exporter": "python",
   "pygments_lexer": "ipython3",
   "version": "3.6.0"
  }
 },
 "nbformat": 4,
 "nbformat_minor": 2
}
