{
 "cells": [
  {
   "cell_type": "markdown",
   "metadata": {},
   "source": [
    "# Paramter Tuning(GRID Search)"
   ]
  },
  {
   "cell_type": "markdown",
   "metadata": {},
   "source": [
    "Grid search cv allows you to define a set of paramters that you want to try on a model and it will automatically run cross validation on each of the parameters keeping track of the scores. It replaces the for loop with some additional functionailty."
   ]
  },
  {
   "cell_type": "code",
   "execution_count": 1,
   "metadata": {},
   "outputs": [
    {
     "name": "stderr",
     "output_type": "stream",
     "text": [
      "/usr/local/lib/python3.6/site-packages/sklearn/cross_validation.py:41: DeprecationWarning: This module was deprecated in version 0.18 in favor of the model_selection module into which all the refactored classes and functions are moved. Also note that the interface of the new CV iterators are different from that of this module. This module will be removed in 0.20.\n",
      "  \"This module will be removed in 0.20.\", DeprecationWarning)\n",
      "/usr/local/lib/python3.6/site-packages/sklearn/grid_search.py:42: DeprecationWarning: This module was deprecated in version 0.18 in favor of the model_selection module into which all the refactored classes and functions are moved. This module will be removed in 0.20.\n",
      "  DeprecationWarning)\n"
     ]
    }
   ],
   "source": [
    "from sklearn.grid_search import GridSearchCV\n",
    "\n",
    "k_range=range(1,31)\n",
    "\n",
    "param_grid=dict(n_neighbors=k_range)\n",
    "\n",
    "grid=GridSearchCV(model,param_grid,cv=10,scoring='accuracy')\n",
    "\n",
    "grid.fit(x,y)\n",
    "\n",
    "scores=grid.grid_scores_"
   ]
  },
  {
   "cell_type": "markdown",
   "metadata": {},
   "source": [
    "The result gives a tuple of mean,std deviation and the paramter value. The std deviation if high can cause a lot of variation and the mean/accuracy may not be reliable."
   ]
  },
  {
   "cell_type": "code",
   "execution_count": null,
   "metadata": {
    "collapsed": true
   },
   "outputs": [],
   "source": [
    "# For accessing the first tuple\n",
    "\n",
    "print grid.grid_scores_[0].paramters\n",
    "print grid.grid_scores_[0].cv_validation_scores\n",
    "print grid.grid_scores_[0].mean_validation_score\n",
    "\n",
    "grid_mean_scores= [result.mean_validation_score for result in grid.grid_score_]\n",
    "\n",
    "plt.plot(k_range,grid_mean_scores)\n",
    "plt.xlabel('Value of k Paramter')\n",
    "plt.ylabel('Accuracy')"
   ]
  },
  {
   "cell_type": "code",
   "execution_count": null,
   "metadata": {
    "collapsed": true
   },
   "outputs": [],
   "source": [
    "# Checking the best parameters\n",
    "\n",
    "print grid.best_score_\n",
    "print grid.best_params_\n",
    "print grid.best_estimator_"
   ]
  },
  {
   "cell_type": "markdown",
   "metadata": {},
   "source": [
    "# Multiple paramters"
   ]
  },
  {
   "cell_type": "code",
   "execution_count": null,
   "metadata": {
    "collapsed": true
   },
   "outputs": [],
   "source": [
    "k_range=range(1,31)\n",
    "weight_option=['uniform','distance']\n",
    "\n",
    "param_grid=dict(n_neighbors=k_range,weights=weight_option)\n",
    "\n",
    "grid=GridSearchCV(model,param_grid,cv=10,scoring='accuracy')\n",
    "grid.fit(x,y)"
   ]
  },
  {
   "cell_type": "markdown",
   "metadata": {},
   "source": [
    "# Randomized Search CV"
   ]
  },
  {
   "cell_type": "code",
   "execution_count": null,
   "metadata": {
    "collapsed": true
   },
   "outputs": [],
   "source": [
    "from sklearn.grid_search import RandomizedSearchCV\n",
    "\n",
    "param_grid=dict(n_neighbots=k_range,weights=weight_option)\n",
    "\n",
    "rand=RandomizedSearchCV(model,param_dict,cv=10,scoring='accuracy',n_iter=10)\n",
    "rand.fit(x,y)\n",
    "\n",
    "print(rand.grid_scores_)\n",
    "print(rand.best_score_)\n",
    "print(rand.best_params_)\n"
   ]
  }
 ],
 "metadata": {
  "kernelspec": {
   "display_name": "Python 3",
   "language": "python",
   "name": "python3"
  },
  "language_info": {
   "codemirror_mode": {
    "name": "ipython",
    "version": 3
   },
   "file_extension": ".py",
   "mimetype": "text/x-python",
   "name": "python",
   "nbconvert_exporter": "python",
   "pygments_lexer": "ipython3",
   "version": "3.6.0"
  }
 },
 "nbformat": 4,
 "nbformat_minor": 2
}
